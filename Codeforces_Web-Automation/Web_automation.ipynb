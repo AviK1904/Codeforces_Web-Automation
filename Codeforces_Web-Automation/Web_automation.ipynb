{
 "cells": [
  {
   "cell_type": "code",
   "execution_count": 7,
   "id": "6b997a09",
   "metadata": {},
   "outputs": [
    {
     "name": "stdout",
     "output_type": "stream",
     "text": [
      "Defaulting to user installation because normal site-packages is not writeable\n",
      "Requirement already satisfied: selenium in c:\\users\\91989\\appdata\\roaming\\python\\python39\\site-packages (4.10.0)\n",
      "Requirement already satisfied: urllib3[socks]<3,>=1.26 in c:\\programdata\\anaconda3\\lib\\site-packages (from selenium) (1.26.9)\n",
      "Requirement already satisfied: trio~=0.17 in c:\\users\\91989\\appdata\\roaming\\python\\python39\\site-packages (from selenium) (0.22.0)\n",
      "Requirement already satisfied: trio-websocket~=0.9 in c:\\users\\91989\\appdata\\roaming\\python\\python39\\site-packages (from selenium) (0.10.3)\n",
      "Requirement already satisfied: certifi>=2021.10.8 in c:\\programdata\\anaconda3\\lib\\site-packages (from selenium) (2021.10.8)\n",
      "Requirement already satisfied: attrs>=19.2.0 in c:\\programdata\\anaconda3\\lib\\site-packages (from trio~=0.17->selenium) (21.4.0)\n",
      "Requirement already satisfied: sortedcontainers in c:\\programdata\\anaconda3\\lib\\site-packages (from trio~=0.17->selenium) (2.4.0)\n",
      "Requirement already satisfied: async-generator>=1.9 in c:\\users\\91989\\appdata\\roaming\\python\\python39\\site-packages (from trio~=0.17->selenium) (1.10)\n",
      "Requirement already satisfied: idna in c:\\programdata\\anaconda3\\lib\\site-packages (from trio~=0.17->selenium) (3.3)\n",
      "Requirement already satisfied: outcome in c:\\users\\91989\\appdata\\roaming\\python\\python39\\site-packages (from trio~=0.17->selenium) (1.2.0)\n",
      "Requirement already satisfied: sniffio in c:\\programdata\\anaconda3\\lib\\site-packages (from trio~=0.17->selenium) (1.2.0)\n",
      "Requirement already satisfied: cffi>=1.14 in c:\\programdata\\anaconda3\\lib\\site-packages (from trio~=0.17->selenium) (1.15.0)\n",
      "Requirement already satisfied: exceptiongroup>=1.0.0rc9 in c:\\users\\91989\\appdata\\roaming\\python\\python39\\site-packages (from trio~=0.17->selenium) (1.1.1)\n",
      "Requirement already satisfied: wsproto>=0.14 in c:\\users\\91989\\appdata\\roaming\\python\\python39\\site-packages (from trio-websocket~=0.9->selenium) (1.2.0)\n",
      "Requirement already satisfied: PySocks!=1.5.7,<2.0,>=1.5.6 in c:\\programdata\\anaconda3\\lib\\site-packages (from urllib3[socks]<3,>=1.26->selenium) (1.7.1)\n",
      "Requirement already satisfied: pycparser in c:\\programdata\\anaconda3\\lib\\site-packages (from cffi>=1.14->trio~=0.17->selenium) (2.21)\n",
      "Requirement already satisfied: h11<1,>=0.9.0 in c:\\users\\91989\\appdata\\roaming\\python\\python39\\site-packages (from wsproto>=0.14->trio-websocket~=0.9->selenium) (0.14.0)\n",
      "Note: you may need to restart the kernel to use updated packages.\n"
     ]
    }
   ],
   "source": [
    "pip install selenium"
   ]
  },
  {
   "cell_type": "code",
   "execution_count": 2,
   "id": "9c4a4fa6",
   "metadata": {},
   "outputs": [],
   "source": [
    "from selenium import webdriver"
   ]
  },
  {
   "cell_type": "code",
   "execution_count": 3,
   "id": "6c2a0d4c",
   "metadata": {},
   "outputs": [],
   "source": [
    "from selenium.webdriver.common.by import By"
   ]
  },
  {
   "cell_type": "code",
   "execution_count": 4,
   "id": "dbd31c9c",
   "metadata": {},
   "outputs": [],
   "source": [
    "browser=webdriver.Chrome()"
   ]
  },
  {
   "cell_type": "code",
   "execution_count": 52,
   "id": "77c8966e",
   "metadata": {},
   "outputs": [],
   "source": [
    "browser.get(\"https://www.codechef.com/login?destination=/\")"
   ]
  },
  {
   "cell_type": "code",
   "execution_count": 53,
   "id": "086ae0ce",
   "metadata": {},
   "outputs": [],
   "source": [
    "user_name=browser.find_element(By.XPATH,\"//*/div/div/input[@id='edit-name' and @maxlength='128']\")"
   ]
  },
  {
   "cell_type": "code",
   "execution_count": 56,
   "id": "1471f557",
   "metadata": {},
   "outputs": [],
   "source": [
    "user_name.click()"
   ]
  },
  {
   "cell_type": "code",
   "execution_count": 57,
   "id": "555b2e32",
   "metadata": {},
   "outputs": [],
   "source": [
    "user_name.send_keys(\"aviral.kr3@gmail.com\")"
   ]
  },
  {
   "cell_type": "code",
   "execution_count": 58,
   "id": "854835ce",
   "metadata": {},
   "outputs": [],
   "source": [
    "password=browser.find_element(By.XPATH,\"//*[@id='edit-pass' and @data='1']\")"
   ]
  },
  {
   "cell_type": "code",
   "execution_count": 59,
   "id": "2e022f21",
   "metadata": {},
   "outputs": [],
   "source": [
    "from getpass import getpass"
   ]
  },
  {
   "cell_type": "code",
   "execution_count": 60,
   "id": "284aee40",
   "metadata": {},
   "outputs": [
    {
     "name": "stdout",
     "output_type": "stream",
     "text": [
      "Enter Password········\n"
     ]
    }
   ],
   "source": [
    "password.send_keys(getpass(\"Enter Password\"))"
   ]
  },
  {
   "cell_type": "code",
   "execution_count": 61,
   "id": "86a06b5b",
   "metadata": {},
   "outputs": [],
   "source": [
    "browser.find_element(By.XPATH,\"//*[@id='edit-submit-button' and @value='Login']\").click()"
   ]
  },
  {
   "cell_type": "code",
   "execution_count": 62,
   "id": "0af64169",
   "metadata": {},
   "outputs": [],
   "source": [
    "browser.get(\"https://www.codechef.com/problems/TEST\")"
   ]
  },
  {
   "cell_type": "markdown",
   "id": "180eca6a",
   "metadata": {},
   "source": [
    "-----------------------------------------------DEAD END--------------------------------------------------"
   ]
  },
  {
   "cell_type": "code",
   "execution_count": 131,
   "id": "e6975c11",
   "metadata": {},
   "outputs": [],
   "source": [
    "browser=webdriver.Chrome()"
   ]
  },
  {
   "cell_type": "code",
   "execution_count": 137,
   "id": "8554d92f",
   "metadata": {},
   "outputs": [],
   "source": [
    "browser.get(\"https://codeforces.com/\")"
   ]
  },
  {
   "cell_type": "code",
   "execution_count": 138,
   "id": "77725538",
   "metadata": {},
   "outputs": [],
   "source": [
    "browser.find_element(By.XPATH,\"//*[@id='header']/div[2]/div[2]/a[1]\").click()"
   ]
  },
  {
   "cell_type": "code",
   "execution_count": 139,
   "id": "3c14abd7",
   "metadata": {},
   "outputs": [],
   "source": [
    "user_name=browser.find_element(By.XPATH,\"//*[@id='handleOrEmail']\")"
   ]
  },
  {
   "cell_type": "code",
   "execution_count": 140,
   "id": "b6380b25",
   "metadata": {},
   "outputs": [],
   "source": [
    "user_name.click()"
   ]
  },
  {
   "cell_type": "code",
   "execution_count": 141,
   "id": "93e44c1d",
   "metadata": {},
   "outputs": [],
   "source": [
    "user_name.send_keys(\"aviral.kr3@gmail.com\")"
   ]
  },
  {
   "cell_type": "code",
   "execution_count": 142,
   "id": "8cccf5dd",
   "metadata": {},
   "outputs": [],
   "source": [
    "password=browser.find_element(By.XPATH,\"//*[@id='password']\")"
   ]
  },
  {
   "cell_type": "code",
   "execution_count": 143,
   "id": "02021ae2",
   "metadata": {},
   "outputs": [],
   "source": [
    "password.click()"
   ]
  },
  {
   "cell_type": "code",
   "execution_count": 144,
   "id": "9ca1b4d5",
   "metadata": {},
   "outputs": [
    {
     "name": "stdout",
     "output_type": "stream",
     "text": [
      "Enter password:········\n"
     ]
    }
   ],
   "source": [
    "password.send_keys(getpass(\"Enter password:\"))"
   ]
  },
  {
   "cell_type": "code",
   "execution_count": 145,
   "id": "108096cd",
   "metadata": {},
   "outputs": [],
   "source": [
    "browser.find_element(By.XPATH,\"//*[@id='enterForm']/table/tbody/tr[4]/td/div[1]/input\").click()"
   ]
  },
  {
   "cell_type": "code",
   "execution_count": 148,
   "id": "da6071ee",
   "metadata": {},
   "outputs": [],
   "source": [
    "browser.get(\"https://codeforces.com/problemset/problem/1841/A\")"
   ]
  },
  {
   "cell_type": "code",
   "execution_count": 149,
   "id": "ecb8a6fe",
   "metadata": {},
   "outputs": [],
   "source": [
    "browser.find_element(By.XPATH,\"//*[@id='pageContent']/div[1]/ul/li[3]/a\").click()"
   ]
  },
  {
   "cell_type": "code",
   "execution_count": 125,
   "id": "2b6d339b",
   "metadata": {},
   "outputs": [],
   "source": [
    "code='''\n",
    "\n",
    "#include <iostream>\n",
    "using namespace std;\n",
    " \n",
    " \n",
    "void solve(int n)\n",
    "{\n",
    "    int compare=4;\n",
    "    \n",
    "    string s= n<=compare ? \"Bob\":\"Alice\";\n",
    "    \n",
    "    cout<<s<<endl;\n",
    "}\n",
    " \n",
    "int main()\n",
    "{\n",
    "    int t;\n",
    "    cin>>t;\n",
    "    int n;\n",
    "    while(t--)\n",
    "    {\n",
    "        cin>>n;\n",
    "        \n",
    "        solve(n);\n",
    "    }\n",
    "}\n",
    "'''\n",
    "\n",
    "#browser.find_element(By.XPATH,\"//*[@id='toggleEditorCheckbox']\").click()"
   ]
  },
  {
   "cell_type": "code",
   "execution_count": 126,
   "id": "486401eb",
   "metadata": {},
   "outputs": [],
   "source": [
    "code_element=browser.find_element(By.XPATH,\"//*[@id='sourceCodeTextarea']\")"
   ]
  },
  {
   "cell_type": "code",
   "execution_count": 127,
   "id": "42a1708a",
   "metadata": {},
   "outputs": [
    {
     "data": {
      "text/plain": [
       "'\\n\\n#include <iostream>\\nusing namespace std;\\n \\n \\nvoid solve(int n)\\n{\\n    int compare=4;\\n    \\n    string s= n<=compare ? \"Bob\":\"Alice\";\\n    \\n    cout<<s<<endl;\\n}\\n \\nint main()\\n{\\n    int t;\\n    cin>>t;\\n    int n;\\n    while(t--)\\n    {\\n        cin>>n;\\n        \\n        solve(n);\\n    }\\n}\\n'"
      ]
     },
     "execution_count": 127,
     "metadata": {},
     "output_type": "execute_result"
    }
   ],
   "source": [
    "code"
   ]
  },
  {
   "cell_type": "code",
   "execution_count": 128,
   "id": "a0840272",
   "metadata": {},
   "outputs": [],
   "source": [
    "code_element.click()"
   ]
  },
  {
   "cell_type": "code",
   "execution_count": 129,
   "id": "5a495ee7",
   "metadata": {},
   "outputs": [],
   "source": [
    "code_element.send_keys(code)"
   ]
  },
  {
   "cell_type": "code",
   "execution_count": 130,
   "id": "707fa707",
   "metadata": {},
   "outputs": [],
   "source": [
    "browser.find_element(By.XPATH,\"//*[@id='singlePageSubmitButton']\").click()"
   ]
  },
  {
   "cell_type": "code",
   "execution_count": null,
   "id": "f40ef293",
   "metadata": {},
   "outputs": [],
   "source": []
  }
 ],
 "metadata": {
  "kernelspec": {
   "display_name": "Python 3 (ipykernel)",
   "language": "python",
   "name": "python3"
  },
  "language_info": {
   "codemirror_mode": {
    "name": "ipython",
    "version": 3
   },
   "file_extension": ".py",
   "mimetype": "text/x-python",
   "name": "python",
   "nbconvert_exporter": "python",
   "pygments_lexer": "ipython3",
   "version": "3.9.12"
  }
 },
 "nbformat": 4,
 "nbformat_minor": 5
}
